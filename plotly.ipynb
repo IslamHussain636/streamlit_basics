{
 "cells": [
  {
   "cell_type": "code",
   "execution_count": 2,
   "metadata": {},
   "outputs": [
    {
     "ename": "ModuleNotFoundError",
     "evalue": "No module named 'plotly.express'; 'plotly' is not a package",
     "output_type": "error",
     "traceback": [
      "\u001b[1;31m---------------------------------------------------------------------------\u001b[0m",
      "\u001b[1;31mModuleNotFoundError\u001b[0m                       Traceback (most recent call last)",
      "\u001b[1;32mc:\\Users\\engsa\\OneDrive\\Desktop\\streamlit_dashboards\\plotly.ipynb Cell 1\u001b[0m in \u001b[0;36m<cell line: 1>\u001b[1;34m()\u001b[0m\n\u001b[1;32m----> <a href='vscode-notebook-cell:/c%3A/Users/engsa/OneDrive/Desktop/streamlit_dashboards/plotly.ipynb#ch0000000?line=0'>1</a>\u001b[0m \u001b[39mimport\u001b[39;00m \u001b[39mplotly\u001b[39;00m\u001b[39m.\u001b[39;00m\u001b[39mexpress\u001b[39;00m \u001b[39mas\u001b[39;00m \u001b[39mpx\u001b[39;00m\n",
      "File \u001b[1;32mc:\\Users\\engsa\\OneDrive\\Desktop\\streamlit_dashboards\\plotly.py:3\u001b[0m, in \u001b[0;36m<module>\u001b[1;34m\u001b[0m\n\u001b[0;32m      1\u001b[0m \u001b[39m#import libraries\u001b[39;00m\n\u001b[0;32m      2\u001b[0m \u001b[39mimport\u001b[39;00m \u001b[39mstreamlit\u001b[39;00m \u001b[39mas\u001b[39;00m \u001b[39mst\u001b[39;00m\n\u001b[1;32m----> 3\u001b[0m \u001b[39mimport\u001b[39;00m \u001b[39mplotly\u001b[39;00m\u001b[39m.\u001b[39;00m\u001b[39mexpress\u001b[39;00m \u001b[39mas\u001b[39;00m \u001b[39mpx\u001b[39;00m\n\u001b[0;32m      4\u001b[0m \u001b[39mimport\u001b[39;00m \u001b[39mpandas\u001b[39;00m \u001b[39mas\u001b[39;00m \u001b[39mpd\u001b[39;00m\n\u001b[0;32m      6\u001b[0m \u001b[39m#import dataset \u001b[39;00m\n",
      "\u001b[1;31mModuleNotFoundError\u001b[0m: No module named 'plotly.express'; 'plotly' is not a package"
     ]
    }
   ],
   "source": [
    "import plotly.express as px"
   ]
  },
  {
   "cell_type": "code",
   "execution_count": 3,
   "metadata": {},
   "outputs": [
    {
     "name": "stdout",
     "output_type": "stream",
     "text": [
      "Requirement already satisfied: plotly.express in c:\\users\\engsa\\miniconda3\\envs\\streamlit\\lib\\site-packages (0.4.1)\n",
      "Requirement already satisfied: plotly>=4.1.0 in c:\\users\\engsa\\miniconda3\\envs\\streamlit\\lib\\site-packages (from plotly.express) (5.9.0)\n",
      "Requirement already satisfied: pandas>=0.20.0 in c:\\users\\engsa\\miniconda3\\envs\\streamlit\\lib\\site-packages (from plotly.express) (1.4.3)\n",
      "Requirement already satisfied: patsy>=0.5 in c:\\users\\engsa\\miniconda3\\envs\\streamlit\\lib\\site-packages (from plotly.express) (0.5.2)\n",
      "Requirement already satisfied: scipy>=0.18 in c:\\users\\engsa\\miniconda3\\envs\\streamlit\\lib\\site-packages (from plotly.express) (1.8.1)\n",
      "Requirement already satisfied: numpy>=1.11 in c:\\users\\engsa\\miniconda3\\envs\\streamlit\\lib\\site-packages (from plotly.express) (1.23.1)\n",
      "Requirement already satisfied: statsmodels>=0.9.0 in c:\\users\\engsa\\miniconda3\\envs\\streamlit\\lib\\site-packages (from plotly.express) (0.13.2)\n",
      "Requirement already satisfied: python-dateutil>=2.8.1 in c:\\users\\engsa\\miniconda3\\envs\\streamlit\\lib\\site-packages (from pandas>=0.20.0->plotly.express) (2.8.2)\n",
      "Requirement already satisfied: pytz>=2020.1 in c:\\users\\engsa\\miniconda3\\envs\\streamlit\\lib\\site-packages (from pandas>=0.20.0->plotly.express) (2022.1)\n",
      "Requirement already satisfied: six in c:\\users\\engsa\\miniconda3\\envs\\streamlit\\lib\\site-packages (from patsy>=0.5->plotly.express) (1.16.0)\n",
      "Requirement already satisfied: tenacity>=6.2.0 in c:\\users\\engsa\\miniconda3\\envs\\streamlit\\lib\\site-packages (from plotly>=4.1.0->plotly.express) (8.0.1)\n",
      "Requirement already satisfied: packaging>=21.3 in c:\\users\\engsa\\miniconda3\\envs\\streamlit\\lib\\site-packages (from statsmodels>=0.9.0->plotly.express) (21.3)\n",
      "Requirement already satisfied: pyparsing!=3.0.5,>=2.0.2 in c:\\users\\engsa\\miniconda3\\envs\\streamlit\\lib\\site-packages (from packaging>=21.3->statsmodels>=0.9.0->plotly.express) (3.0.9)\n",
      "Note: you may need to restart the kernel to use updated packages.\n"
     ]
    }
   ],
   "source": [
    "pip install plotly.express\n"
   ]
  },
  {
   "cell_type": "code",
   "execution_count": 6,
   "metadata": {},
   "outputs": [
    {
     "name": "stdout",
     "output_type": "stream",
     "text": [
      "Collecting cufflinks\n",
      "  Downloading cufflinks-0.17.3.tar.gz (81 kB)\n",
      "     -------------------------------------- 81.7/81.7 kB 350.5 kB/s eta 0:00:00\n",
      "  Preparing metadata (setup.py): started\n",
      "  Preparing metadata (setup.py): finished with status 'done'\n",
      "Requirement already satisfied: numpy>=1.9.2 in c:\\users\\engsa\\miniconda3\\envs\\streamlit\\lib\\site-packages (from cufflinks) (1.23.1)\n",
      "Requirement already satisfied: pandas>=0.19.2 in c:\\users\\engsa\\miniconda3\\envs\\streamlit\\lib\\site-packages (from cufflinks) (1.4.3)\n",
      "Requirement already satisfied: plotly>=4.1.1 in c:\\users\\engsa\\miniconda3\\envs\\streamlit\\lib\\site-packages (from cufflinks) (5.9.0)\n",
      "Requirement already satisfied: six>=1.9.0 in c:\\users\\engsa\\miniconda3\\envs\\streamlit\\lib\\site-packages (from cufflinks) (1.16.0)\n",
      "Collecting colorlover>=0.2.1\n",
      "  Downloading colorlover-0.3.0-py3-none-any.whl (8.9 kB)\n",
      "Requirement already satisfied: setuptools>=34.4.1 in c:\\users\\engsa\\miniconda3\\envs\\streamlit\\lib\\site-packages (from cufflinks) (61.2.0)\n",
      "Requirement already satisfied: ipython>=5.3.0 in c:\\users\\engsa\\miniconda3\\envs\\streamlit\\lib\\site-packages (from cufflinks) (8.4.0)\n",
      "Requirement already satisfied: ipywidgets>=7.0.0 in c:\\users\\engsa\\miniconda3\\envs\\streamlit\\lib\\site-packages (from cufflinks) (7.7.1)\n",
      "Requirement already satisfied: prompt-toolkit!=3.0.0,!=3.0.1,<3.1.0,>=2.0.0 in c:\\users\\engsa\\miniconda3\\envs\\streamlit\\lib\\site-packages (from ipython>=5.3.0->cufflinks) (3.0.30)\n",
      "Requirement already satisfied: colorama in c:\\users\\engsa\\miniconda3\\envs\\streamlit\\lib\\site-packages (from ipython>=5.3.0->cufflinks) (0.4.5)\n",
      "Requirement already satisfied: traitlets>=5 in c:\\users\\engsa\\miniconda3\\envs\\streamlit\\lib\\site-packages (from ipython>=5.3.0->cufflinks) (5.3.0)\n",
      "Requirement already satisfied: jedi>=0.16 in c:\\users\\engsa\\miniconda3\\envs\\streamlit\\lib\\site-packages (from ipython>=5.3.0->cufflinks) (0.18.1)\n",
      "Requirement already satisfied: decorator in c:\\users\\engsa\\miniconda3\\envs\\streamlit\\lib\\site-packages (from ipython>=5.3.0->cufflinks) (5.1.1)\n",
      "Requirement already satisfied: pickleshare in c:\\users\\engsa\\miniconda3\\envs\\streamlit\\lib\\site-packages (from ipython>=5.3.0->cufflinks) (0.7.5)\n",
      "Requirement already satisfied: matplotlib-inline in c:\\users\\engsa\\miniconda3\\envs\\streamlit\\lib\\site-packages (from ipython>=5.3.0->cufflinks) (0.1.3)\n",
      "Requirement already satisfied: backcall in c:\\users\\engsa\\miniconda3\\envs\\streamlit\\lib\\site-packages (from ipython>=5.3.0->cufflinks) (0.2.0)\n",
      "Requirement already satisfied: stack-data in c:\\users\\engsa\\miniconda3\\envs\\streamlit\\lib\\site-packages (from ipython>=5.3.0->cufflinks) (0.3.0)\n",
      "Requirement already satisfied: pygments>=2.4.0 in c:\\users\\engsa\\miniconda3\\envs\\streamlit\\lib\\site-packages (from ipython>=5.3.0->cufflinks) (2.12.0)\n",
      "Requirement already satisfied: ipykernel>=4.5.1 in c:\\users\\engsa\\miniconda3\\envs\\streamlit\\lib\\site-packages (from ipywidgets>=7.0.0->cufflinks) (6.15.1)\n",
      "Requirement already satisfied: jupyterlab-widgets>=1.0.0 in c:\\users\\engsa\\miniconda3\\envs\\streamlit\\lib\\site-packages (from ipywidgets>=7.0.0->cufflinks) (1.1.1)\n",
      "Requirement already satisfied: widgetsnbextension~=3.6.0 in c:\\users\\engsa\\miniconda3\\envs\\streamlit\\lib\\site-packages (from ipywidgets>=7.0.0->cufflinks) (3.6.1)\n",
      "Requirement already satisfied: ipython-genutils~=0.2.0 in c:\\users\\engsa\\miniconda3\\envs\\streamlit\\lib\\site-packages (from ipywidgets>=7.0.0->cufflinks) (0.2.0)\n",
      "Requirement already satisfied: pytz>=2020.1 in c:\\users\\engsa\\miniconda3\\envs\\streamlit\\lib\\site-packages (from pandas>=0.19.2->cufflinks) (2022.1)\n",
      "Requirement already satisfied: python-dateutil>=2.8.1 in c:\\users\\engsa\\miniconda3\\envs\\streamlit\\lib\\site-packages (from pandas>=0.19.2->cufflinks) (2.8.2)\n",
      "Requirement already satisfied: tenacity>=6.2.0 in c:\\users\\engsa\\miniconda3\\envs\\streamlit\\lib\\site-packages (from plotly>=4.1.1->cufflinks) (8.0.1)\n",
      "Requirement already satisfied: jupyter-client>=6.1.12 in c:\\users\\engsa\\miniconda3\\envs\\streamlit\\lib\\site-packages (from ipykernel>=4.5.1->ipywidgets>=7.0.0->cufflinks) (7.3.4)\n",
      "Requirement already satisfied: tornado>=6.1 in c:\\users\\engsa\\miniconda3\\envs\\streamlit\\lib\\site-packages (from ipykernel>=4.5.1->ipywidgets>=7.0.0->cufflinks) (6.2)\n",
      "Requirement already satisfied: pyzmq>=17 in c:\\users\\engsa\\miniconda3\\envs\\streamlit\\lib\\site-packages (from ipykernel>=4.5.1->ipywidgets>=7.0.0->cufflinks) (23.2.0)\n",
      "Requirement already satisfied: psutil in c:\\users\\engsa\\miniconda3\\envs\\streamlit\\lib\\site-packages (from ipykernel>=4.5.1->ipywidgets>=7.0.0->cufflinks) (5.9.1)\n",
      "Requirement already satisfied: debugpy>=1.0 in c:\\users\\engsa\\miniconda3\\envs\\streamlit\\lib\\site-packages (from ipykernel>=4.5.1->ipywidgets>=7.0.0->cufflinks) (1.6.2)\n",
      "Requirement already satisfied: packaging in c:\\users\\engsa\\miniconda3\\envs\\streamlit\\lib\\site-packages (from ipykernel>=4.5.1->ipywidgets>=7.0.0->cufflinks) (21.3)\n",
      "Requirement already satisfied: nest-asyncio in c:\\users\\engsa\\miniconda3\\envs\\streamlit\\lib\\site-packages (from ipykernel>=4.5.1->ipywidgets>=7.0.0->cufflinks) (1.5.5)\n",
      "Requirement already satisfied: parso<0.9.0,>=0.8.0 in c:\\users\\engsa\\miniconda3\\envs\\streamlit\\lib\\site-packages (from jedi>=0.16->ipython>=5.3.0->cufflinks) (0.8.3)\n",
      "Requirement already satisfied: wcwidth in c:\\users\\engsa\\miniconda3\\envs\\streamlit\\lib\\site-packages (from prompt-toolkit!=3.0.0,!=3.0.1,<3.1.0,>=2.0.0->ipython>=5.3.0->cufflinks) (0.2.5)\n",
      "Requirement already satisfied: notebook>=4.4.1 in c:\\users\\engsa\\miniconda3\\envs\\streamlit\\lib\\site-packages (from widgetsnbextension~=3.6.0->ipywidgets>=7.0.0->cufflinks) (6.4.12)\n",
      "Requirement already satisfied: executing in c:\\users\\engsa\\miniconda3\\envs\\streamlit\\lib\\site-packages (from stack-data->ipython>=5.3.0->cufflinks) (0.9.1)\n",
      "Requirement already satisfied: pure-eval in c:\\users\\engsa\\miniconda3\\envs\\streamlit\\lib\\site-packages (from stack-data->ipython>=5.3.0->cufflinks) (0.2.2)\n",
      "Requirement already satisfied: asttokens in c:\\users\\engsa\\miniconda3\\envs\\streamlit\\lib\\site-packages (from stack-data->ipython>=5.3.0->cufflinks) (2.0.5)\n",
      "Requirement already satisfied: entrypoints in c:\\users\\engsa\\miniconda3\\envs\\streamlit\\lib\\site-packages (from jupyter-client>=6.1.12->ipykernel>=4.5.1->ipywidgets>=7.0.0->cufflinks) (0.4)\n",
      "Requirement already satisfied: jupyter-core>=4.9.2 in c:\\users\\engsa\\miniconda3\\envs\\streamlit\\lib\\site-packages (from jupyter-client>=6.1.12->ipykernel>=4.5.1->ipywidgets>=7.0.0->cufflinks) (4.11.1)\n",
      "Requirement already satisfied: prometheus-client in c:\\users\\engsa\\miniconda3\\envs\\streamlit\\lib\\site-packages (from notebook>=4.4.1->widgetsnbextension~=3.6.0->ipywidgets>=7.0.0->cufflinks) (0.14.1)\n",
      "Requirement already satisfied: argon2-cffi in c:\\users\\engsa\\miniconda3\\envs\\streamlit\\lib\\site-packages (from notebook>=4.4.1->widgetsnbextension~=3.6.0->ipywidgets>=7.0.0->cufflinks) (21.3.0)\n",
      "Requirement already satisfied: terminado>=0.8.3 in c:\\users\\engsa\\miniconda3\\envs\\streamlit\\lib\\site-packages (from notebook>=4.4.1->widgetsnbextension~=3.6.0->ipywidgets>=7.0.0->cufflinks) (0.15.0)\n",
      "Requirement already satisfied: nbformat in c:\\users\\engsa\\miniconda3\\envs\\streamlit\\lib\\site-packages (from notebook>=4.4.1->widgetsnbextension~=3.6.0->ipywidgets>=7.0.0->cufflinks) (5.4.0)\n",
      "Requirement already satisfied: Send2Trash>=1.8.0 in c:\\users\\engsa\\miniconda3\\envs\\streamlit\\lib\\site-packages (from notebook>=4.4.1->widgetsnbextension~=3.6.0->ipywidgets>=7.0.0->cufflinks) (1.8.0)\n",
      "Requirement already satisfied: jinja2 in c:\\users\\engsa\\miniconda3\\envs\\streamlit\\lib\\site-packages (from notebook>=4.4.1->widgetsnbextension~=3.6.0->ipywidgets>=7.0.0->cufflinks) (3.1.2)\n",
      "Requirement already satisfied: nbconvert>=5 in c:\\users\\engsa\\miniconda3\\envs\\streamlit\\lib\\site-packages (from notebook>=4.4.1->widgetsnbextension~=3.6.0->ipywidgets>=7.0.0->cufflinks) (6.5.0)\n",
      "Requirement already satisfied: pyparsing!=3.0.5,>=2.0.2 in c:\\users\\engsa\\miniconda3\\envs\\streamlit\\lib\\site-packages (from packaging->ipykernel>=4.5.1->ipywidgets>=7.0.0->cufflinks) (3.0.9)\n",
      "Requirement already satisfied: pywin32>=1.0 in c:\\users\\engsa\\miniconda3\\envs\\streamlit\\lib\\site-packages (from jupyter-core>=4.9.2->jupyter-client>=6.1.12->ipykernel>=4.5.1->ipywidgets>=7.0.0->cufflinks) (304)\n",
      "Requirement already satisfied: pandocfilters>=1.4.1 in c:\\users\\engsa\\miniconda3\\envs\\streamlit\\lib\\site-packages (from nbconvert>=5->notebook>=4.4.1->widgetsnbextension~=3.6.0->ipywidgets>=7.0.0->cufflinks) (1.5.0)\n",
      "Requirement already satisfied: mistune<2,>=0.8.1 in c:\\users\\engsa\\miniconda3\\envs\\streamlit\\lib\\site-packages (from nbconvert>=5->notebook>=4.4.1->widgetsnbextension~=3.6.0->ipywidgets>=7.0.0->cufflinks) (0.8.4)\n",
      "Requirement already satisfied: beautifulsoup4 in c:\\users\\engsa\\miniconda3\\envs\\streamlit\\lib\\site-packages (from nbconvert>=5->notebook>=4.4.1->widgetsnbextension~=3.6.0->ipywidgets>=7.0.0->cufflinks) (4.11.1)\n",
      "Requirement already satisfied: tinycss2 in c:\\users\\engsa\\miniconda3\\envs\\streamlit\\lib\\site-packages (from nbconvert>=5->notebook>=4.4.1->widgetsnbextension~=3.6.0->ipywidgets>=7.0.0->cufflinks) (1.1.1)\n",
      "Requirement already satisfied: bleach in c:\\users\\engsa\\miniconda3\\envs\\streamlit\\lib\\site-packages (from nbconvert>=5->notebook>=4.4.1->widgetsnbextension~=3.6.0->ipywidgets>=7.0.0->cufflinks) (5.0.1)\n",
      "Requirement already satisfied: MarkupSafe>=2.0 in c:\\users\\engsa\\miniconda3\\envs\\streamlit\\lib\\site-packages (from nbconvert>=5->notebook>=4.4.1->widgetsnbextension~=3.6.0->ipywidgets>=7.0.0->cufflinks) (2.1.1)\n",
      "Requirement already satisfied: nbclient>=0.5.0 in c:\\users\\engsa\\miniconda3\\envs\\streamlit\\lib\\site-packages (from nbconvert>=5->notebook>=4.4.1->widgetsnbextension~=3.6.0->ipywidgets>=7.0.0->cufflinks) (0.6.6)\n",
      "Requirement already satisfied: jupyterlab-pygments in c:\\users\\engsa\\miniconda3\\envs\\streamlit\\lib\\site-packages (from nbconvert>=5->notebook>=4.4.1->widgetsnbextension~=3.6.0->ipywidgets>=7.0.0->cufflinks) (0.2.2)\n",
      "Requirement already satisfied: defusedxml in c:\\users\\engsa\\miniconda3\\envs\\streamlit\\lib\\site-packages (from nbconvert>=5->notebook>=4.4.1->widgetsnbextension~=3.6.0->ipywidgets>=7.0.0->cufflinks) (0.7.1)\n",
      "Requirement already satisfied: fastjsonschema in c:\\users\\engsa\\miniconda3\\envs\\streamlit\\lib\\site-packages (from nbformat->notebook>=4.4.1->widgetsnbextension~=3.6.0->ipywidgets>=7.0.0->cufflinks) (2.16.1)\n",
      "Requirement already satisfied: jsonschema>=2.6 in c:\\users\\engsa\\miniconda3\\envs\\streamlit\\lib\\site-packages (from nbformat->notebook>=4.4.1->widgetsnbextension~=3.6.0->ipywidgets>=7.0.0->cufflinks) (4.7.2)\n",
      "Requirement already satisfied: pywinpty>=1.1.0 in c:\\users\\engsa\\miniconda3\\envs\\streamlit\\lib\\site-packages (from terminado>=0.8.3->notebook>=4.4.1->widgetsnbextension~=3.6.0->ipywidgets>=7.0.0->cufflinks) (2.0.6)\n",
      "Requirement already satisfied: argon2-cffi-bindings in c:\\users\\engsa\\miniconda3\\envs\\streamlit\\lib\\site-packages (from argon2-cffi->notebook>=4.4.1->widgetsnbextension~=3.6.0->ipywidgets>=7.0.0->cufflinks) (21.2.0)\n",
      "Requirement already satisfied: attrs>=17.4.0 in c:\\users\\engsa\\miniconda3\\envs\\streamlit\\lib\\site-packages (from jsonschema>=2.6->nbformat->notebook>=4.4.1->widgetsnbextension~=3.6.0->ipywidgets>=7.0.0->cufflinks) (21.4.0)\n",
      "Requirement already satisfied: pyrsistent!=0.17.0,!=0.17.1,!=0.17.2,>=0.14.0 in c:\\users\\engsa\\miniconda3\\envs\\streamlit\\lib\\site-packages (from jsonschema>=2.6->nbformat->notebook>=4.4.1->widgetsnbextension~=3.6.0->ipywidgets>=7.0.0->cufflinks) (0.18.1)\n",
      "Requirement already satisfied: importlib-resources>=1.4.0 in c:\\users\\engsa\\miniconda3\\envs\\streamlit\\lib\\site-packages (from jsonschema>=2.6->nbformat->notebook>=4.4.1->widgetsnbextension~=3.6.0->ipywidgets>=7.0.0->cufflinks) (5.9.0)\n",
      "Requirement already satisfied: cffi>=1.0.1 in c:\\users\\engsa\\miniconda3\\envs\\streamlit\\lib\\site-packages (from argon2-cffi-bindings->argon2-cffi->notebook>=4.4.1->widgetsnbextension~=3.6.0->ipywidgets>=7.0.0->cufflinks) (1.15.1)\n",
      "Requirement already satisfied: soupsieve>1.2 in c:\\users\\engsa\\miniconda3\\envs\\streamlit\\lib\\site-packages (from beautifulsoup4->nbconvert>=5->notebook>=4.4.1->widgetsnbextension~=3.6.0->ipywidgets>=7.0.0->cufflinks) (2.3.2.post1)\n",
      "Requirement already satisfied: webencodings in c:\\users\\engsa\\miniconda3\\envs\\streamlit\\lib\\site-packages (from bleach->nbconvert>=5->notebook>=4.4.1->widgetsnbextension~=3.6.0->ipywidgets>=7.0.0->cufflinks) (0.5.1)\n",
      "Requirement already satisfied: pycparser in c:\\users\\engsa\\miniconda3\\envs\\streamlit\\lib\\site-packages (from cffi>=1.0.1->argon2-cffi-bindings->argon2-cffi->notebook>=4.4.1->widgetsnbextension~=3.6.0->ipywidgets>=7.0.0->cufflinks) (2.21)\n",
      "Requirement already satisfied: zipp>=3.1.0 in c:\\users\\engsa\\miniconda3\\envs\\streamlit\\lib\\site-packages (from importlib-resources>=1.4.0->jsonschema>=2.6->nbformat->notebook>=4.4.1->widgetsnbextension~=3.6.0->ipywidgets>=7.0.0->cufflinks) (3.8.1)\n",
      "Building wheels for collected packages: cufflinks\n",
      "  Building wheel for cufflinks (setup.py): started\n",
      "  Building wheel for cufflinks (setup.py): finished with status 'done'\n",
      "  Created wheel for cufflinks: filename=cufflinks-0.17.3-py3-none-any.whl size=68736 sha256=54d6d521744525879cc2d9bca96fe00703ccb123e28596a7ba833944ebb0f017\n",
      "  Stored in directory: c:\\users\\engsa\\appdata\\local\\pip\\cache\\wheels\\6b\\76\\62\\6da97734911ffcbdd559fd1a3f28526321f0ae699182a23866\n",
      "Successfully built cufflinks\n",
      "Installing collected packages: colorlover, cufflinks\n",
      "Successfully installed colorlover-0.3.0 cufflinks-0.17.3\n",
      "Note: you may need to restart the kernel to use updated packages.\n"
     ]
    }
   ],
   "source": [
    "pip install cufflinks"
   ]
  },
  {
   "cell_type": "code",
   "execution_count": null,
   "metadata": {},
   "outputs": [],
   "source": []
  }
 ],
 "metadata": {
  "kernelspec": {
   "display_name": "Python 3.8.13 ('streamlit')",
   "language": "python",
   "name": "python3"
  },
  "language_info": {
   "name": "python",
   "version": "3.8.13"
  },
  "orig_nbformat": 4,
  "vscode": {
   "interpreter": {
    "hash": "4fb27198e0547bf90b6d0233ab793be116383827b8bc92247f68d2eed28b8437"
   }
  }
 },
 "nbformat": 4,
 "nbformat_minor": 2
}
