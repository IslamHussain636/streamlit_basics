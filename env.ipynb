{
 "cells": [
  {
   "cell_type": "markdown",
   "metadata": {},
   "source": [
    "# Creating environment in conda from a text file\n",
    "## Assignment 1 \n",
    "- Step 1: On Windows open up a Anaconda Prompt, on Linux and MacOS open up a Terminal and go to that directory \n",
    " which has the environment.yml or .txt file.\n",
    "\n",
    "- Step 2: Create the environment by running\n",
    ">conda env create -f environment.yml.\n",
    "\n",
    "- This creates a brand new environment with the same name as before. To verify that it was created successfully, execute \n",
    ">conda info --envs or conda info -e.\n",
    "\n",
    "### Assignment 2\n",
    "- In the text file just comment the @explict and it will work properly"
   ]
  }
 ],
 "metadata": {
  "language_info": {
   "name": "python"
  },
  "orig_nbformat": 4
 },
 "nbformat": 4,
 "nbformat_minor": 2
}
